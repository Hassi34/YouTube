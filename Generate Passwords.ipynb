{
 "cells": [
  {
   "cell_type": "code",
   "execution_count": 47,
   "id": "a5fa3b09",
   "metadata": {
    "slideshow": {
     "slide_type": "notes"
    }
   },
   "outputs": [],
   "source": [
    "import random, string"
   ]
  },
  {
   "cell_type": "code",
   "execution_count": 48,
   "id": "6ca523a6",
   "metadata": {},
   "outputs": [],
   "source": [
    "password_characters = string.ascii_lowercase+string.ascii_uppercase+ string.digits + string.punctuation"
   ]
  },
  {
   "cell_type": "code",
   "execution_count": 49,
   "id": "12495b47",
   "metadata": {},
   "outputs": [
    {
     "data": {
      "text/plain": [
       "'abcdefghijklmnopqrstuvwxyzABCDEFGHIJKLMNOPQRSTUVWXYZ0123456789!\"#$%&\\'()*+,-./:;<=>?@[\\\\]^_`{|}~'"
      ]
     },
     "execution_count": 49,
     "metadata": {},
     "output_type": "execute_result"
    }
   ],
   "source": [
    "password_characters"
   ]
  },
  {
   "cell_type": "code",
   "execution_count": 50,
   "id": "9b09ea73",
   "metadata": {},
   "outputs": [
    {
     "name": "stdout",
     "output_type": "stream",
     "text": [
      "Please enter the required length of password : 8\n",
      "How many passwords do you want ? 10\n"
     ]
    }
   ],
   "source": [
    "password_length =int(input(\"Please enter the required length of password : \"))\n",
    "number_of_passwords = int(input('How many passwords do you want ? '))"
   ]
  },
  {
   "cell_type": "code",
   "execution_count": 51,
   "id": "33c7c396",
   "metadata": {},
   "outputs": [],
   "source": [
    "passwords_list = [] \n",
    "for i in range(number_of_passwords): #10\n",
    "    password = [] \n",
    "    for n in range(password_length): #8\n",
    "        password.append(random.choice(password_characters))\n",
    "        pass_str = \"\".join(password)\n",
    "    passwords_list.append(pass_str)\n",
    "    i+=1 "
   ]
  },
  {
   "cell_type": "code",
   "execution_count": 53,
   "id": "a3791b74",
   "metadata": {},
   "outputs": [
    {
     "data": {
      "text/plain": [
       "10"
      ]
     },
     "execution_count": 53,
     "metadata": {},
     "output_type": "execute_result"
    }
   ],
   "source": [
    "len(passwords_list)"
   ]
  },
  {
   "cell_type": "code",
   "execution_count": 54,
   "id": "017c5a62",
   "metadata": {},
   "outputs": [],
   "source": [
    "import pandas as pd "
   ]
  },
  {
   "cell_type": "code",
   "execution_count": 55,
   "id": "2a3f7117",
   "metadata": {},
   "outputs": [],
   "source": [
    "df = pd.DataFrame(passwords_list, columns=['password'])"
   ]
  },
  {
   "cell_type": "code",
   "execution_count": 57,
   "id": "f51dc6c9",
   "metadata": {},
   "outputs": [
    {
     "data": {
      "text/html": [
       "<div>\n",
       "<style scoped>\n",
       "    .dataframe tbody tr th:only-of-type {\n",
       "        vertical-align: middle;\n",
       "    }\n",
       "\n",
       "    .dataframe tbody tr th {\n",
       "        vertical-align: top;\n",
       "    }\n",
       "\n",
       "    .dataframe thead th {\n",
       "        text-align: right;\n",
       "    }\n",
       "</style>\n",
       "<table border=\"1\" class=\"dataframe\">\n",
       "  <thead>\n",
       "    <tr style=\"text-align: right;\">\n",
       "      <th></th>\n",
       "      <th>password</th>\n",
       "    </tr>\n",
       "  </thead>\n",
       "  <tbody>\n",
       "    <tr>\n",
       "      <th>0</th>\n",
       "      <td>3$hRsk;[</td>\n",
       "    </tr>\n",
       "    <tr>\n",
       "      <th>1</th>\n",
       "      <td>0N%fxnsQ</td>\n",
       "    </tr>\n",
       "    <tr>\n",
       "      <th>2</th>\n",
       "      <td>RD`WZ8~`</td>\n",
       "    </tr>\n",
       "    <tr>\n",
       "      <th>3</th>\n",
       "      <td>j3c#dkT!</td>\n",
       "    </tr>\n",
       "    <tr>\n",
       "      <th>4</th>\n",
       "      <td>%Tgpj[2u</td>\n",
       "    </tr>\n",
       "    <tr>\n",
       "      <th>5</th>\n",
       "      <td>5Sith,P3</td>\n",
       "    </tr>\n",
       "    <tr>\n",
       "      <th>6</th>\n",
       "      <td>jj'yumSs</td>\n",
       "    </tr>\n",
       "    <tr>\n",
       "      <th>7</th>\n",
       "      <td>?xB;77YS</td>\n",
       "    </tr>\n",
       "    <tr>\n",
       "      <th>8</th>\n",
       "      <td>JVGHu?x'</td>\n",
       "    </tr>\n",
       "    <tr>\n",
       "      <th>9</th>\n",
       "      <td>{_A';eX)</td>\n",
       "    </tr>\n",
       "  </tbody>\n",
       "</table>\n",
       "</div>"
      ],
      "text/plain": [
       "   password\n",
       "0  3$hRsk;[\n",
       "1  0N%fxnsQ\n",
       "2  RD`WZ8~`\n",
       "3  j3c#dkT!\n",
       "4  %Tgpj[2u\n",
       "5  5Sith,P3\n",
       "6  jj'yumSs\n",
       "7  ?xB;77YS\n",
       "8  JVGHu?x'\n",
       "9  {_A';eX)"
      ]
     },
     "execution_count": 57,
     "metadata": {},
     "output_type": "execute_result"
    }
   ],
   "source": [
    "df "
   ]
  },
  {
   "cell_type": "code",
   "execution_count": 58,
   "id": "3328ad80",
   "metadata": {},
   "outputs": [],
   "source": [
    "df.to_csv('pass.csv')"
   ]
  },
  {
   "cell_type": "code",
   "execution_count": 60,
   "id": "1ac01b5e",
   "metadata": {},
   "outputs": [],
   "source": [
    "df.to_excel('pass.xlsx')"
   ]
  },
  {
   "cell_type": "code",
   "execution_count": 61,
   "id": "e3818552",
   "metadata": {},
   "outputs": [
    {
     "name": "stdout",
     "output_type": "stream",
     "text": [
      "Generate Passwords.ipynb\n",
      "pass.csv\n",
      "pass.xlsx\n"
     ]
    }
   ],
   "source": [
    "! ls "
   ]
  },
  {
   "cell_type": "code",
   "execution_count": null,
   "id": "28858aed",
   "metadata": {},
   "outputs": [],
   "source": []
  }
 ],
 "metadata": {
  "hide_input": false,
  "kernelspec": {
   "display_name": "Python 3",
   "language": "python",
   "name": "python3"
  },
  "language_info": {
   "codemirror_mode": {
    "name": "ipython",
    "version": 3
   },
   "file_extension": ".py",
   "mimetype": "text/x-python",
   "name": "python",
   "nbconvert_exporter": "python",
   "pygments_lexer": "ipython3",
   "version": "3.7.6"
  }
 },
 "nbformat": 4,
 "nbformat_minor": 5
}
